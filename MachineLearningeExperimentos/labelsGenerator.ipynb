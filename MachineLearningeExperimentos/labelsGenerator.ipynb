{
 "cells": [
  {
   "cell_type": "code",
   "execution_count": 1,
   "metadata": {},
   "outputs": [],
   "source": [
    " # Create .csv file with labels for each file in the folder and save it in the same folder\n",
    "\n",
    "import csv\n",
    "import api\n",
    "                #Original, generic\n",
    "queries = [('q1','4594110748752943812', '5746933745788705615'),\n",
    "           ('q2','67975537488907456','3873070621485790444'),\n",
    "           ('q3','301938438716750982','1316429291096176277'),\n",
    "           ('q4','3111970067476574900','7022037157405226340'),\n",
    "           ('q5','8300017492647067900','8196117331945926328'),\n",
    "           ('q6','7022037157405226340','679640495890764388')]\n"
   ]
  },
  {
   "cell_type": "code",
   "execution_count": 2,
   "metadata": {},
   "outputs": [],
   "source": [
    "\n",
    "def getIdList(data):\n",
    "    ids = []\n",
    "    for j in data:\n",
    "        if j['status'] == 'success':\n",
    "            ids.append(j['project']['id'])\n",
    "    ids = [str(n) for n in ids]\n",
    "    return ids\n",
    "\n",
    "def getIntersection(lst1, lst2):\n",
    "    return list(set(lst1) & set(lst2))\n",
    "\n",
    "def getTotal(jsonList, id):\n",
    "    for json in jsonList:\n",
    "        if id == str(json['project']['id']):\n",
    "            return json['total']\n"
   ]
  },
  {
   "cell_type": "code",
   "execution_count": 13,
   "metadata": {},
   "outputs": [],
   "source": [
    "filename = 'labels.csv'\n",
    "# opening the file with w+ mode truncates the file\n",
    "f = open(filename, \"w+\")\n",
    "header = ['query-idProyecto','orig_total','gen_total','gen > rel* 1' , 'gen > rel* 1.1', 'gen > rel* 1.2', 'gen > rel* 1.3']\n",
    "writer = csv.writer(f)\n",
    "writer.writerow(header)\n",
    "f.close()\n",
    "\n",
    "for q in queries:\n",
    "\n",
    "    jsonOriginal = api.getJson(q[1])\n",
    "    jsonGenerico = api.getJson(q[2])\n",
    "\n",
    "    interIds = getIntersection(getIdList(jsonOriginal), getIdList(jsonGenerico))\n",
    "        \n",
    "\n",
    "    with open('labels.csv', 'a', encoding='UTF8', newline='') as file:\n",
    "        writer = csv.writer(file)\n",
    "\n",
    "        for id in interIds:\n",
    "            orig = getTotal(jsonOriginal, id) \n",
    "            gen = getTotal(jsonGenerico, id) \n",
    "            bool1_0 = gen > orig \n",
    "            bool1_1 = gen > (orig * 1.1)\n",
    "            bool1_2 = gen > (orig * 1.2)\n",
    "            bool3_3 = gen > (orig * 1.3)\n",
    "            row = [f'{q[0]}-{id}',  orig, gen, bool1_0 ,bool1_1, bool1_2, bool3_3]\n",
    "            writer.writerow(row)"
   ]
  }
 ],
 "metadata": {
  "kernelspec": {
   "display_name": "Python 3.10.0 64-bit",
   "language": "python",
   "name": "python3"
  },
  "language_info": {
   "codemirror_mode": {
    "name": "ipython",
    "version": 3
   },
   "file_extension": ".py",
   "mimetype": "text/x-python",
   "name": "python",
   "nbconvert_exporter": "python",
   "pygments_lexer": "ipython3",
   "version": "3.10.0"
  },
  "orig_nbformat": 4,
  "vscode": {
   "interpreter": {
    "hash": "b629c3126b5df0b3c19ac5f524890cb3a3a2e86c1a2f2c4b1c29287aa73e65d0"
   }
  }
 },
 "nbformat": 4,
 "nbformat_minor": 2
}
