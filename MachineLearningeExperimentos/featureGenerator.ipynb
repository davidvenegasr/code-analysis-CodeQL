{
 "cells": [
  {
   "cell_type": "code",
   "execution_count": 3,
   "metadata": {},
   "outputs": [],
   "source": [
    "import csv\n",
    "import api\n",
    "\n",
    "from tqdm import tqdm"
   ]
  },
  {
   "cell_type": "code",
   "execution_count": 4,
   "metadata": {},
   "outputs": [],
   "source": [
    "queryId = '3778082360928566917'\n",
    "filename = \"chunks\\\\features\""
   ]
  },
  {
   "cell_type": "code",
   "execution_count": 5,
   "metadata": {},
   "outputs": [],
   "source": [
    "jsonOriginal = api.getJson(queryId)\n"
   ]
  },
  {
   "cell_type": "code",
   "execution_count": 6,
   "metadata": {},
   "outputs": [],
   "source": [
    "jsonIds = api.getIdList(jsonOriginal)\n"
   ]
  },
  {
   "cell_type": "code",
   "execution_count": 7,
   "metadata": {},
   "outputs": [],
   "source": [
    "def getJsonValues(jsonIds):\n",
    "    r = []\n",
    "    for id in jsonIds:\n",
    "        try:\n",
    "            listOfJson = api.getJsonResultsDetailed(queryId,id)\n",
    "            for json in listOfJson:\n",
    "                name = json[0]['value']\n",
    "                declaryngType = json[1]['value']\n",
    "                methodDescriptor = json[2]['value']\n",
    "                returnType = json[3]['value']\n",
    "                numArgument = json[4]['value']\n",
    "                hasConstants = json[5]['value']\n",
    "                r.append((id,name, declaryngType, methodDescriptor, returnType, numArgument, hasConstants))\n",
    "        except:\n",
    "            raise Exception('Error in getJsonValues')\n",
    "    return r \n"
   ]
  },
  {
   "cell_type": "code",
   "execution_count": 11,
   "metadata": {},
   "outputs": [
    {
     "name": "stderr",
     "output_type": "stream",
     "text": [
      "100%|██████████| 20/20 [38:20<00:00, 115.02s/it] \n"
     ]
    }
   ],
   "source": [
    "chunks = [jsonIds[x:x+50] for x in range(0, len(jsonIds), 50)]\n",
    "\n",
    "for i in tqdm(range(len(chunks))):\n",
    "    idchunk = chunks[i]\n",
    "    f = open(f'{filename}-chunk-{i}.csv', \"w+\")\n",
    "    header = ['id','name', 'declaryngType', 'methodDescriptor', 'returnType', 'numArgument', 'hasConstants']\t\n",
    "    writer = csv.writer(f)\n",
    "    writer.writerow(header)\n",
    "    f.close()\n",
    "    jsonFinal = getJsonValues(idchunk)\n",
    "\n",
    "\n",
    "    with open(f'{filename}-chunk-{i}.csv', 'a', encoding='UTF8', newline='') as file:\n",
    "        writer = csv.writer(file)\n",
    "        for tuple in jsonFinal:\n",
    "            id, name, dType, methodDescriptor, returnType, numArgument, hasConstants = tuple[0], tuple[1], tuple[2], tuple[3], tuple[4], tuple[5], tuple[6]\n",
    "            row = [id, name, dType, methodDescriptor, returnType, numArgument, hasConstants]\n",
    "            writer.writerow(row)\n",
    "    i = 1 + i"
   ]
  }
 ],
 "metadata": {
  "kernelspec": {
   "display_name": "Python 3.10.0 64-bit",
   "language": "python",
   "name": "python3"
  },
  "language_info": {
   "codemirror_mode": {
    "name": "ipython",
    "version": 3
   },
   "file_extension": ".py",
   "mimetype": "text/x-python",
   "name": "python",
   "nbconvert_exporter": "python",
   "pygments_lexer": "ipython3",
   "version": "3.10.0"
  },
  "orig_nbformat": 4,
  "vscode": {
   "interpreter": {
    "hash": "b629c3126b5df0b3c19ac5f524890cb3a3a2e86c1a2f2c4b1c29287aa73e65d0"
   }
  }
 },
 "nbformat": 4,
 "nbformat_minor": 2
}
