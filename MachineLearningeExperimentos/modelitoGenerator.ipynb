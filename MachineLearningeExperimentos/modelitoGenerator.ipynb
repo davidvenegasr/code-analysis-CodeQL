{
 "cells": [
  {
   "cell_type": "code",
   "execution_count": 63,
   "metadata": {},
   "outputs": [],
   "source": [
    "import numpy as np\n",
    "import pandas as pd\n",
    "  \n",
    "from tqdm import tqdm\n",
    "\n",
    "df =  pd.read_csv('features.csv')"
   ]
  },
  {
   "cell_type": "code",
   "execution_count": 64,
   "metadata": {},
   "outputs": [
    {
     "data": {
      "text/html": [
       "<div>\n",
       "<style scoped>\n",
       "    .dataframe tbody tr th:only-of-type {\n",
       "        vertical-align: middle;\n",
       "    }\n",
       "\n",
       "    .dataframe tbody tr th {\n",
       "        vertical-align: top;\n",
       "    }\n",
       "\n",
       "    .dataframe thead th {\n",
       "        text-align: right;\n",
       "    }\n",
       "</style>\n",
       "<table border=\"1\" class=\"dataframe\">\n",
       "  <thead>\n",
       "    <tr style=\"text-align: right;\">\n",
       "      <th></th>\n",
       "      <th>Unnamed: 0</th>\n",
       "      <th>id</th>\n",
       "      <th>name</th>\n",
       "      <th>declaryngType</th>\n",
       "      <th>methodDescriptor</th>\n",
       "      <th>returnType</th>\n",
       "      <th>numArgument</th>\n",
       "      <th>hasConstants</th>\n",
       "    </tr>\n",
       "  </thead>\n",
       "  <tbody>\n",
       "    <tr>\n",
       "      <th>0</th>\n",
       "      <td>0</td>\n",
       "      <td>1509202436664</td>\n",
       "      <td>removeListener</td>\n",
       "      <td>Registry</td>\n",
       "      <td>(Lorg/fourthline/cling/registry/RegistryListen...</td>\n",
       "      <td>void</td>\n",
       "      <td>1</td>\n",
       "      <td>0</td>\n",
       "    </tr>\n",
       "    <tr>\n",
       "      <th>1</th>\n",
       "      <td>1</td>\n",
       "      <td>1509202436664</td>\n",
       "      <td>addListener</td>\n",
       "      <td>Registry</td>\n",
       "      <td>(Lorg/fourthline/cling/registry/RegistryListen...</td>\n",
       "      <td>void</td>\n",
       "      <td>1</td>\n",
       "      <td>0</td>\n",
       "    </tr>\n",
       "    <tr>\n",
       "      <th>2</th>\n",
       "      <td>2</td>\n",
       "      <td>1509202436664</td>\n",
       "      <td>setProgress</td>\n",
       "      <td>InstanceView</td>\n",
       "      <td>(Lorg/fourthline/cling/support/model/PositionI...</td>\n",
       "      <td>void</td>\n",
       "      <td>1</td>\n",
       "      <td>0</td>\n",
       "    </tr>\n",
       "    <tr>\n",
       "      <th>3</th>\n",
       "      <td>3</td>\n",
       "      <td>1509202436664</td>\n",
       "      <td>setTitle</td>\n",
       "      <td>MonitorView</td>\n",
       "      <td>(Ljava/lang/String;)V</td>\n",
       "      <td>void</td>\n",
       "      <td>1</td>\n",
       "      <td>0</td>\n",
       "    </tr>\n",
       "    <tr>\n",
       "      <th>4</th>\n",
       "      <td>4</td>\n",
       "      <td>1509202436664</td>\n",
       "      <td>setTitle</td>\n",
       "      <td>AVTransportView</td>\n",
       "      <td>(Ljava/lang/String;)V</td>\n",
       "      <td>void</td>\n",
       "      <td>1</td>\n",
       "      <td>0</td>\n",
       "    </tr>\n",
       "  </tbody>\n",
       "</table>\n",
       "</div>"
      ],
      "text/plain": [
       "   Unnamed: 0             id            name    declaryngType  \\\n",
       "0           0  1509202436664  removeListener         Registry   \n",
       "1           1  1509202436664     addListener         Registry   \n",
       "2           2  1509202436664     setProgress     InstanceView   \n",
       "3           3  1509202436664        setTitle      MonitorView   \n",
       "4           4  1509202436664        setTitle  AVTransportView   \n",
       "\n",
       "                                    methodDescriptor returnType  numArgument  \\\n",
       "0  (Lorg/fourthline/cling/registry/RegistryListen...       void            1   \n",
       "1  (Lorg/fourthline/cling/registry/RegistryListen...       void            1   \n",
       "2  (Lorg/fourthline/cling/support/model/PositionI...       void            1   \n",
       "3                              (Ljava/lang/String;)V       void            1   \n",
       "4                              (Ljava/lang/String;)V       void            1   \n",
       "\n",
       "   hasConstants  \n",
       "0             0  \n",
       "1             0  \n",
       "2             0  \n",
       "3             0  \n",
       "4             0  "
      ]
     },
     "execution_count": 64,
     "metadata": {},
     "output_type": "execute_result"
    }
   ],
   "source": [
    "df.head()"
   ]
  },
  {
   "cell_type": "code",
   "execution_count": 5,
   "metadata": {},
   "outputs": [],
   "source": [
    "altdf = df.groupby(['name', 'numArgument']).size().nlargest(100).reset_index(name='count')"
   ]
  },
  {
   "cell_type": "code",
   "execution_count": 6,
   "metadata": {},
   "outputs": [],
   "source": [
    "altdf[\"string\"] = altdf['name'] +\"-\"+ altdf['numArgument'].astype(str)"
   ]
  },
  {
   "cell_type": "code",
   "execution_count": 7,
   "metadata": {},
   "outputs": [],
   "source": [
    "modelito =  pd.read_csv('labels.csv')"
   ]
  },
  {
   "cell_type": "code",
   "execution_count": 8,
   "metadata": {},
   "outputs": [
    {
     "name": "stderr",
     "output_type": "stream",
     "text": [
      "C:\\Users\\david\\AppData\\Local\\Temp\\ipykernel_13884\\2097355678.py:2: PerformanceWarning: DataFrame is highly fragmented.  This is usually the result of calling `frame.insert` many times, which has poor performance.  Consider joining all columns at once using pd.concat(axis=1) instead.  To get a de-fragmented frame, use `newframe = frame.copy()`\n",
      "  modelito[colname] = False\n"
     ]
    }
   ],
   "source": [
    "for colname in altdf[\"string\"]:\n",
    "    modelito[colname] = False\n",
    "newmodelito = modelito.copy()"
   ]
  },
  {
   "cell_type": "code",
   "execution_count": 9,
   "metadata": {},
   "outputs": [
    {
     "data": {
      "text/html": [
       "<div>\n",
       "<style scoped>\n",
       "    .dataframe tbody tr th:only-of-type {\n",
       "        vertical-align: middle;\n",
       "    }\n",
       "\n",
       "    .dataframe tbody tr th {\n",
       "        vertical-align: top;\n",
       "    }\n",
       "\n",
       "    .dataframe thead th {\n",
       "        text-align: right;\n",
       "    }\n",
       "</style>\n",
       "<table border=\"1\" class=\"dataframe\">\n",
       "  <thead>\n",
       "    <tr style=\"text-align: right;\">\n",
       "      <th></th>\n",
       "      <th>query-idProyecto</th>\n",
       "      <th>gen &gt; rel* 3.0</th>\n",
       "      <th>get-1</th>\n",
       "      <th>put-2</th>\n",
       "      <th>remove-1</th>\n",
       "      <th>parseFrom-1</th>\n",
       "      <th>parseFrom-2</th>\n",
       "      <th>valueOf-1</th>\n",
       "      <th>apply-1</th>\n",
       "      <th>set-2</th>\n",
       "      <th>...</th>\n",
       "      <th>subscribe-1</th>\n",
       "      <th>update-2</th>\n",
       "      <th>with-1</th>\n",
       "      <th>getOrDefault-2</th>\n",
       "      <th>findCityById-1</th>\n",
       "      <th>orElseGet-1</th>\n",
       "      <th>type-1</th>\n",
       "      <th>write-2</th>\n",
       "      <th>eq-1</th>\n",
       "      <th>parse-2</th>\n",
       "    </tr>\n",
       "  </thead>\n",
       "  <tbody>\n",
       "    <tr>\n",
       "      <th>0</th>\n",
       "      <td>q1-57800092</td>\n",
       "      <td>False</td>\n",
       "      <td>False</td>\n",
       "      <td>False</td>\n",
       "      <td>False</td>\n",
       "      <td>False</td>\n",
       "      <td>False</td>\n",
       "      <td>False</td>\n",
       "      <td>False</td>\n",
       "      <td>False</td>\n",
       "      <td>...</td>\n",
       "      <td>False</td>\n",
       "      <td>False</td>\n",
       "      <td>False</td>\n",
       "      <td>False</td>\n",
       "      <td>False</td>\n",
       "      <td>False</td>\n",
       "      <td>False</td>\n",
       "      <td>False</td>\n",
       "      <td>False</td>\n",
       "      <td>False</td>\n",
       "    </tr>\n",
       "    <tr>\n",
       "      <th>1</th>\n",
       "      <td>q1-1863190961</td>\n",
       "      <td>False</td>\n",
       "      <td>False</td>\n",
       "      <td>False</td>\n",
       "      <td>False</td>\n",
       "      <td>False</td>\n",
       "      <td>False</td>\n",
       "      <td>False</td>\n",
       "      <td>False</td>\n",
       "      <td>False</td>\n",
       "      <td>...</td>\n",
       "      <td>False</td>\n",
       "      <td>False</td>\n",
       "      <td>False</td>\n",
       "      <td>False</td>\n",
       "      <td>False</td>\n",
       "      <td>False</td>\n",
       "      <td>False</td>\n",
       "      <td>False</td>\n",
       "      <td>False</td>\n",
       "      <td>False</td>\n",
       "    </tr>\n",
       "    <tr>\n",
       "      <th>2</th>\n",
       "      <td>q1-10180041</td>\n",
       "      <td>False</td>\n",
       "      <td>False</td>\n",
       "      <td>False</td>\n",
       "      <td>False</td>\n",
       "      <td>False</td>\n",
       "      <td>False</td>\n",
       "      <td>False</td>\n",
       "      <td>False</td>\n",
       "      <td>False</td>\n",
       "      <td>...</td>\n",
       "      <td>False</td>\n",
       "      <td>False</td>\n",
       "      <td>False</td>\n",
       "      <td>False</td>\n",
       "      <td>False</td>\n",
       "      <td>False</td>\n",
       "      <td>False</td>\n",
       "      <td>False</td>\n",
       "      <td>False</td>\n",
       "      <td>False</td>\n",
       "    </tr>\n",
       "    <tr>\n",
       "      <th>3</th>\n",
       "      <td>q1-1506524266334</td>\n",
       "      <td>False</td>\n",
       "      <td>False</td>\n",
       "      <td>False</td>\n",
       "      <td>False</td>\n",
       "      <td>False</td>\n",
       "      <td>False</td>\n",
       "      <td>False</td>\n",
       "      <td>False</td>\n",
       "      <td>False</td>\n",
       "      <td>...</td>\n",
       "      <td>False</td>\n",
       "      <td>False</td>\n",
       "      <td>False</td>\n",
       "      <td>False</td>\n",
       "      <td>False</td>\n",
       "      <td>False</td>\n",
       "      <td>False</td>\n",
       "      <td>False</td>\n",
       "      <td>False</td>\n",
       "      <td>False</td>\n",
       "    </tr>\n",
       "    <tr>\n",
       "      <th>4</th>\n",
       "      <td>q1-31550023</td>\n",
       "      <td>False</td>\n",
       "      <td>False</td>\n",
       "      <td>False</td>\n",
       "      <td>False</td>\n",
       "      <td>False</td>\n",
       "      <td>False</td>\n",
       "      <td>False</td>\n",
       "      <td>False</td>\n",
       "      <td>False</td>\n",
       "      <td>...</td>\n",
       "      <td>False</td>\n",
       "      <td>False</td>\n",
       "      <td>False</td>\n",
       "      <td>False</td>\n",
       "      <td>False</td>\n",
       "      <td>False</td>\n",
       "      <td>False</td>\n",
       "      <td>False</td>\n",
       "      <td>False</td>\n",
       "      <td>False</td>\n",
       "    </tr>\n",
       "  </tbody>\n",
       "</table>\n",
       "<p>5 rows × 102 columns</p>\n",
       "</div>"
      ],
      "text/plain": [
       "   query-idProyecto  gen > rel* 3.0  get-1  put-2  remove-1  parseFrom-1  \\\n",
       "0       q1-57800092           False  False  False     False        False   \n",
       "1     q1-1863190961           False  False  False     False        False   \n",
       "2       q1-10180041           False  False  False     False        False   \n",
       "3  q1-1506524266334           False  False  False     False        False   \n",
       "4       q1-31550023           False  False  False     False        False   \n",
       "\n",
       "   parseFrom-2  valueOf-1  apply-1  set-2  ...  subscribe-1  update-2  with-1  \\\n",
       "0        False      False    False  False  ...        False     False   False   \n",
       "1        False      False    False  False  ...        False     False   False   \n",
       "2        False      False    False  False  ...        False     False   False   \n",
       "3        False      False    False  False  ...        False     False   False   \n",
       "4        False      False    False  False  ...        False     False   False   \n",
       "\n",
       "   getOrDefault-2  findCityById-1  orElseGet-1  type-1  write-2   eq-1  \\\n",
       "0           False           False        False   False    False  False   \n",
       "1           False           False        False   False    False  False   \n",
       "2           False           False        False   False    False  False   \n",
       "3           False           False        False   False    False  False   \n",
       "4           False           False        False   False    False  False   \n",
       "\n",
       "   parse-2  \n",
       "0    False  \n",
       "1    False  \n",
       "2    False  \n",
       "3    False  \n",
       "4    False  \n",
       "\n",
       "[5 rows x 102 columns]"
      ]
     },
     "execution_count": 9,
     "metadata": {},
     "output_type": "execute_result"
    }
   ],
   "source": [
    "newmodelito.head()"
   ]
  },
  {
   "cell_type": "code",
   "execution_count": 59,
   "metadata": {},
   "outputs": [],
   "source": [
    "def findInFeatures(row, argument):\n",
    "    \"\"\"Return true if the row is in the features\"\"\"\n",
    "    cName = argument[:-2]\n",
    "    cArgNumber = int(argument[-1:])\n",
    "    queryId = int(row['query-idProyecto'][3:])\n",
    "    selectEmpty = df.loc[(df['id'] == queryId) & (df['name'] == cName) & (df['numArgument'] == cArgNumber)].empty\n",
    "    return False if selectEmpty else True\n",
    "\n",
    "newmodelito['get-1'] = newmodelito.apply(findInFeatures, argument=('get-1'),  axis=1)"
   ]
  },
  {
   "cell_type": "code",
   "execution_count": 60,
   "metadata": {},
   "outputs": [
    {
     "data": {
      "text/plain": [
       "True     4526\n",
       "False    1177\n",
       "Name: get-1, dtype: int64"
      ]
     },
     "execution_count": 60,
     "metadata": {},
     "output_type": "execute_result"
    }
   ],
   "source": [
    "newmodelito['get-1'].value_counts()"
   ]
  },
  {
   "cell_type": "code",
   "execution_count": 68,
   "metadata": {},
   "outputs": [
    {
     "name": "stderr",
     "output_type": "stream",
     "text": [
      "  0%|          | 0/10 [00:00<?, ?it/s]"
     ]
    },
    {
     "name": "stdout",
     "output_type": "stream",
     "text": [
      "get-1\n",
      "put-2\n",
      "remove-1\n",
      "parseFrom-1\n",
      "parseFrom-2\n",
      "valueOf-1\n",
      "apply-1\n",
      "set-2\n",
      "mergeFrom-1\n",
      "get-2\n"
     ]
    },
    {
     "name": "stderr",
     "output_type": "stream",
     "text": [
      " 10%|█         | 1/10 [10:30<1:34:37, 630.78s/it]"
     ]
    },
    {
     "name": "stdout",
     "output_type": "stream",
     "text": [
      "mergeUnknownFields-1\n",
      "name-1\n",
      "clearOneof-1\n",
      "cast-1\n",
      "getMessage-1\n",
      "orElse-1\n",
      "parsePartialFrom-2\n",
      "putIfAbsent-2\n",
      "apply-2\n",
      "computeIfAbsent-2\n"
     ]
    },
    {
     "name": "stderr",
     "output_type": "stream",
     "text": [
      " 20%|██        | 2/10 [9:36:41<44:58:58, 20242.28s/it]"
     ]
    },
    {
     "name": "stdout",
     "output_type": "stream",
     "text": [
      "setField-2\n",
      "f-1\n",
      "create-1\n",
      "setName-1\n",
      "add-1\n",
      "visit-1\n",
      "read-2\n",
      "create-2\n",
      "delete-1\n",
      "id-1\n"
     ]
    },
    {
     "name": "stderr",
     "output_type": "stream",
     "text": [
      " 30%|███       | 3/10 [9:46:16<21:53:53, 11261.95s/it]"
     ]
    },
    {
     "name": "stdout",
     "output_type": "stream",
     "text": [
      "write-1\n",
      "getValue-1\n",
      "bind-2\n",
      "insert-1\n",
      "update-1\n",
      "execute-1\n",
      "map-1\n",
      "read-1\n",
      "decode-1\n",
      "mergeFrom-2\n"
     ]
    },
    {
     "name": "stderr",
     "output_type": "stream",
     "text": [
      " 40%|████      | 4/10 [10:28:48<13:02:19, 7823.26s/it]"
     ]
    },
    {
     "name": "stdout",
     "output_type": "stream",
     "text": [
      "addRepeatedField-2\n",
      "clearField-1\n",
      "save-1\n",
      "setRepeatedField-3\n",
      "createFromParcel-1\n",
      "orElseThrow-1\n",
      "linkFrom-1\n",
      "setValue-1\n",
      "set-3\n",
      "add-2\n"
     ]
    },
    {
     "name": "stderr",
     "output_type": "stream",
     "text": [
      " 50%|█████     | 5/10 [10:38:23<7:14:08, 5209.61s/it] "
     ]
    },
    {
     "name": "stdout",
     "output_type": "stream",
     "text": [
      "setType-1\n",
      "apply-3\n",
      "parse-1\n",
      "push-1\n",
      "create-4\n",
      "get-3\n",
      "setUnknownFields-1\n",
      "findById-1\n",
      "execute-2\n",
      "invoke-1\n"
     ]
    },
    {
     "name": "stderr",
     "output_type": "stream",
     "text": [
      " 60%|██████    | 6/10 [10:55:42<4:12:46, 3791.58s/it]"
     ]
    },
    {
     "name": "stdout",
     "output_type": "stream",
     "text": [
      "accept-1\n",
      "poll-2\n",
      "getOne-1\n",
      "newInstance-1\n",
      "init-1\n",
      "convert-1\n",
      "contains-1\n",
      "visit-2\n",
      "selectByExample-1\n",
      "set-1\n"
     ]
    },
    {
     "name": "stderr",
     "output_type": "stream",
     "text": [
      " 70%|███████   | 7/10 [11:12:53<2:24:26, 2888.92s/it]"
     ]
    },
    {
     "name": "stdout",
     "output_type": "stream",
     "text": [
      "run-1\n",
      "containsKey-1\n",
      "setId-1\n",
      "create-3\n",
      "load-1\n",
      "linkFrom-2\n",
      "write-3\n",
      "close-1\n",
      "build-2\n",
      "put-1\n"
     ]
    },
    {
     "name": "stderr",
     "output_type": "stream",
     "text": [
      " 80%|████████  | 8/10 [11:25:03<1:13:23, 2201.77s/it]"
     ]
    },
    {
     "name": "stdout",
     "output_type": "stream",
     "text": [
      "as-1\n",
      "call-1\n",
      "setMLEnvironmentId-1\n",
      "resolve-1\n",
      "error-1\n",
      "process-1\n",
      "put-3\n",
      "build-1\n",
      "isEqualTo-1\n",
      "findUniqueBy-2\n"
     ]
    },
    {
     "name": "stderr",
     "output_type": "stream",
     "text": [
      " 90%|█████████ | 9/10 [11:59:31<35:59, 2159.93s/it]  "
     ]
    },
    {
     "name": "stdout",
     "output_type": "stream",
     "text": [
      "subscribe-1\n",
      "update-2\n",
      "with-1\n",
      "getOrDefault-2\n",
      "findCityById-1\n",
      "orElseGet-1\n",
      "type-1\n",
      "write-2\n",
      "eq-1\n",
      "parse-2\n"
     ]
    },
    {
     "name": "stderr",
     "output_type": "stream",
     "text": [
      "100%|██████████| 10/10 [12:12:02<00:00, 4392.23s/it]\n"
     ]
    }
   ],
   "source": [
    "cols = newmodelito.columns[2:]\n",
    "chunks = [cols[x:x+10] for x in range(0, len(cols), 10)]\n",
    "\n",
    "for i in tqdm(range(len(chunks))):\n",
    "    thisChunk = chunks[i]\n",
    "    for col in thisChunk:\n",
    "        print(col)\n",
    "        newmodelito[col] = newmodelito.apply(findInFeatures, argument=('get-1'),  axis=1)\n",
    "        newmodelito.to_csv('newModelito.csv', encoding='utf-8', index=False)\n",
    "    "
   ]
  },
  {
   "cell_type": "code",
   "execution_count": 66,
   "metadata": {},
   "outputs": [],
   "source": [
    "newmodelito.to_csv('newModelito.csv', encoding='utf-8', index=False)"
   ]
  }
 ],
 "metadata": {
  "kernelspec": {
   "display_name": "Python 3.10.0 64-bit",
   "language": "python",
   "name": "python3"
  },
  "language_info": {
   "codemirror_mode": {
    "name": "ipython",
    "version": 3
   },
   "file_extension": ".py",
   "mimetype": "text/x-python",
   "name": "python",
   "nbconvert_exporter": "python",
   "pygments_lexer": "ipython3",
   "version": "3.10.0"
  },
  "orig_nbformat": 4,
  "vscode": {
   "interpreter": {
    "hash": "b629c3126b5df0b3c19ac5f524890cb3a3a2e86c1a2f2c4b1c29287aa73e65d0"
   }
  }
 },
 "nbformat": 4,
 "nbformat_minor": 2
}
